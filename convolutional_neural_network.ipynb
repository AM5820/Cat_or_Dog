{
 "cells": [
  {
   "cell_type": "markdown",
   "metadata": {
    "id": "bsP0F1E5-KX2"
   },
   "source": [
    "# Convolutional Neural Network"
   ]
  },
  {
   "cell_type": "markdown",
   "metadata": {
    "id": "eDBuRWN6-KYH"
   },
   "source": [
    "## import libraries"
   ]
  },
  {
   "cell_type": "code",
   "execution_count": 166,
   "metadata": {
    "id": "38G5ADgI-KYJ"
   },
   "outputs": [],
   "source": [
    "import numpy as np\n",
    "import matplotlib.pyplot as plt\n",
    "import tensorflow as tf\n",
    "from keras.preprocessing.image import ImageDataGenerator"
   ]
  },
  {
   "cell_type": "markdown",
   "metadata": {
    "id": "5BGcyHgc-KYK"
   },
   "source": [
    "## Part 1 - Preprocessing"
   ]
  },
  {
   "cell_type": "markdown",
   "metadata": {
    "id": "dRPBwI-o-KYL"
   },
   "source": [
    "### Preprocessing the training set"
   ]
  },
  {
   "cell_type": "code",
   "execution_count": 10,
   "metadata": {
    "id": "nYK5kwF5-KYL"
   },
   "outputs": [
    {
     "name": "stdout",
     "output_type": "stream",
     "text": [
      "Found 8000 images belonging to 2 classes.\n"
     ]
    }
   ],
   "source": [
    "train_datagen = ImageDataGenerator(\n",
    "        rescale=1./255,\n",
    "        shear_range=0.2,\n",
    "        zoom_range=0.2,\n",
    "        horizontal_flip=True)\n",
    "\n",
    "training_set = train_datagen.flow_from_directory(\n",
    "        'Data/dataset/training_set',\n",
    "        target_size=(64, 64),\n",
    "        batch_size=32,\n",
    "        class_mode='binary')"
   ]
  },
  {
   "cell_type": "markdown",
   "metadata": {
    "id": "ihHnI9OB-KYM"
   },
   "source": [
    "### Preprocessing the training set"
   ]
  },
  {
   "cell_type": "code",
   "execution_count": 29,
   "metadata": {
    "id": "ZzxC5Fep-KYM"
   },
   "outputs": [
    {
     "name": "stdout",
     "output_type": "stream",
     "text": [
      "Found 2000 images belonging to 2 classes.\n"
     ]
    }
   ],
   "source": [
    "test_datagen = ImageDataGenerator(rescale=1./255)\n",
    "\n",
    "test_set = test_datagen.flow_from_directory(\n",
    "        'Data/dataset/test_set',\n",
    "        target_size=(64, 64),\n",
    "        batch_size=32,\n",
    "        class_mode='binary')"
   ]
  },
  {
   "cell_type": "markdown",
   "metadata": {
    "id": "Kop9SKAY-KYN"
   },
   "source": [
    "## Part 2 - Building the CNN"
   ]
  },
  {
   "cell_type": "markdown",
   "metadata": {
    "id": "rmuYF0RN-KYO"
   },
   "source": [
    "### Initialising the CNN"
   ]
  },
  {
   "cell_type": "code",
   "execution_count": 32,
   "metadata": {
    "id": "DMX0mXD1-KYP"
   },
   "outputs": [],
   "source": [
    "cnn = tf.keras.models.Sequential()"
   ]
  },
  {
   "cell_type": "markdown",
   "metadata": {
    "id": "dUx7sDil-bSf"
   },
   "source": [
    "#### Step 1 - Convolution"
   ]
  },
  {
   "cell_type": "code",
   "execution_count": 33,
   "metadata": {
    "id": "kOjtkyOq-KYQ"
   },
   "outputs": [
    {
     "name": "stdout",
     "output_type": "stream",
     "text": [
      "WARNING:tensorflow:From c:\\users\\studa\\appdata\\local\\programs\\python\\python37\\lib\\site-packages\\tensorflow\\python\\ops\\resource_variable_ops.py:435: colocate_with (from tensorflow.python.framework.ops) is deprecated and will be removed in a future version.\n",
      "Instructions for updating:\n",
      "Colocations handled automatically by placer.\n"
     ]
    }
   ],
   "source": [
    "cnn.add(tf.keras.layers.Conv2D(filters=32,kernel_size=3,activation='relu',input_shape=(64,64,3)))"
   ]
  },
  {
   "cell_type": "markdown",
   "metadata": {
    "id": "Y7hO-ECf_dP1"
   },
   "source": [
    "#### step 2 - Pooling"
   ]
  },
  {
   "cell_type": "code",
   "execution_count": 34,
   "metadata": {
    "id": "CwFnw6HV_j8i"
   },
   "outputs": [],
   "source": [
    "cnn.add(tf.keras.layers.MaxPool2D(pool_size=(2,2),strides=2))"
   ]
  },
  {
   "cell_type": "markdown",
   "metadata": {
    "id": "FR2p360-_dmr"
   },
   "source": [
    "#### Adding another convolutional layer"
   ]
  },
  {
   "cell_type": "code",
   "execution_count": 35,
   "metadata": {
    "id": "uy5CmUQa_qoZ"
   },
   "outputs": [],
   "source": [
    "cnn.add(tf.keras.layers.Conv2D(filters=32,kernel_size=3,activation='relu'))\n",
    "cnn.add(tf.keras.layers.MaxPool2D(pool_size=(2,2),strides=2))"
   ]
  },
  {
   "cell_type": "markdown",
   "metadata": {
    "id": "QBjKifMl_d0J"
   },
   "source": [
    "#### step 3 - Flattening"
   ]
  },
  {
   "cell_type": "code",
   "execution_count": 36,
   "metadata": {
    "id": "lH4Nbmry_rFC"
   },
   "outputs": [],
   "source": [
    "cnn.add(tf.keras.layers.Flatten())"
   ]
  },
  {
   "cell_type": "markdown",
   "metadata": {
    "id": "C0kv7sfP_yY9"
   },
   "source": [
    "#### step 4 - Full connection"
   ]
  },
  {
   "cell_type": "code",
   "execution_count": 37,
   "metadata": {
    "id": "3tFKY-5D_yhz"
   },
   "outputs": [],
   "source": [
    "cnn.add(tf.keras.layers.Dense(units=128,activation='relu'))"
   ]
  },
  {
   "cell_type": "markdown",
   "metadata": {
    "id": "eJLu7QvDChqk"
   },
   "source": [
    "#### step 5 - Output Layer"
   ]
  },
  {
   "cell_type": "code",
   "execution_count": 38,
   "metadata": {
    "id": "nZu0kscLCfrv"
   },
   "outputs": [],
   "source": [
    "cnn.add(tf.keras.layers.Dense(units=1,activation='sigmoid'))"
   ]
  },
  {
   "cell_type": "markdown",
   "metadata": {
    "id": "fOl9JytXCyYU"
   },
   "source": [
    "## Part 3 - Training the CNN"
   ]
  },
  {
   "cell_type": "markdown",
   "metadata": {
    "id": "qIP1T0V7DSYq"
   },
   "source": [
    "#### compiling the CNN"
   ]
  },
  {
   "cell_type": "code",
   "execution_count": 39,
   "metadata": {
    "id": "cAZbkoHvC9TW"
   },
   "outputs": [],
   "source": [
    "cnn.compile(optimizer='adam',loss='binary_crossentropy',metrics=['accuracy'])"
   ]
  },
  {
   "cell_type": "markdown",
   "metadata": {
    "id": "hievUEl7DZjC"
   },
   "source": [
    "#### Training the CNN on the training set and evaluate it on the test set"
   ]
  },
  {
   "cell_type": "code",
   "execution_count": 40,
   "metadata": {
    "collapsed": true,
    "id": "OdM143rfDSBd"
   },
   "outputs": [
    {
     "name": "stdout",
     "output_type": "stream",
     "text": [
      "WARNING:tensorflow:From c:\\users\\studa\\appdata\\local\\programs\\python\\python37\\lib\\site-packages\\tensorflow\\python\\ops\\math_ops.py:3066: to_int32 (from tensorflow.python.ops.math_ops) is deprecated and will be removed in a future version.\n",
      "Instructions for updating:\n",
      "Use tf.cast instead.\n",
      "Epoch 1/20\n",
      "63/63 [==============================] - 62s 991ms/step - loss: 0.6284 - acc: 0.6540\n",
      "250/250 [==============================] - 317s 1s/step - loss: 0.6540 - acc: 0.6161 - val_loss: 0.6284 - val_acc: 0.6540\n",
      "Epoch 2/20\n",
      "63/63 [==============================] - 43s 686ms/step - loss: 0.5658 - acc: 0.7230\n",
      "250/250 [==============================] - 194s 774ms/step - loss: 0.5778 - acc: 0.6999 - val_loss: 0.5658 - val_acc: 0.7230\n",
      "Epoch 3/20\n",
      "63/63 [==============================] - 9s 144ms/step - loss: 0.5118 - acc: 0.7560\n",
      "250/250 [==============================] - 123s 491ms/step - loss: 0.5350 - acc: 0.7240 - val_loss: 0.5118 - val_acc: 0.7560\n",
      "Epoch 4/20\n",
      "63/63 [==============================] - 10s 160ms/step - loss: 0.5013 - acc: 0.7595\n",
      "250/250 [==============================] - 105s 421ms/step - loss: 0.5039 - acc: 0.7509 - val_loss: 0.5013 - val_acc: 0.7595\n",
      "Epoch 5/20\n",
      "63/63 [==============================] - 9s 147ms/step - loss: 0.4925 - acc: 0.7715\n",
      "250/250 [==============================] - 110s 439ms/step - loss: 0.4764 - acc: 0.7760 - val_loss: 0.4925 - val_acc: 0.7715\n",
      "Epoch 6/20\n",
      "63/63 [==============================] - 10s 161ms/step - loss: 0.4918 - acc: 0.7815\n",
      "250/250 [==============================] - 99s 397ms/step - loss: 0.4579 - acc: 0.7822 - val_loss: 0.4918 - val_acc: 0.7815\n",
      "Epoch 7/20\n",
      "63/63 [==============================] - 8s 121ms/step - loss: 0.4931 - acc: 0.7745\n",
      "250/250 [==============================] - 87s 349ms/step - loss: 0.4377 - acc: 0.7974 - val_loss: 0.4931 - val_acc: 0.7745\n",
      "Epoch 8/20\n",
      "63/63 [==============================] - 8s 130ms/step - loss: 0.4465 - acc: 0.7985\n",
      "250/250 [==============================] - 85s 341ms/step - loss: 0.4385 - acc: 0.7945 - val_loss: 0.4465 - val_acc: 0.7985\n",
      "Epoch 9/20\n",
      "63/63 [==============================] - 8s 131ms/step - loss: 0.4815 - acc: 0.7845\n",
      "250/250 [==============================] - 93s 371ms/step - loss: 0.4164 - acc: 0.8055 - val_loss: 0.4815 - val_acc: 0.7845\n",
      "Epoch 10/20\n",
      "63/63 [==============================] - 9s 138ms/step - loss: 0.4488 - acc: 0.8095\n",
      "250/250 [==============================] - 101s 405ms/step - loss: 0.4003 - acc: 0.8164 - val_loss: 0.4488 - val_acc: 0.8095\n",
      "Epoch 11/20\n",
      "63/63 [==============================] - 7s 119ms/step - loss: 0.4523 - acc: 0.8065\n",
      "250/250 [==============================] - 93s 372ms/step - loss: 0.3958 - acc: 0.8186 - val_loss: 0.4523 - val_acc: 0.8065\n",
      "Epoch 12/20\n",
      "63/63 [==============================] - 8s 120ms/step - loss: 0.4428 - acc: 0.8070\n",
      "250/250 [==============================] - 80s 322ms/step - loss: 0.3800 - acc: 0.8288 - val_loss: 0.4428 - val_acc: 0.8070\n",
      "Epoch 13/20\n",
      "63/63 [==============================] - 7s 118ms/step - loss: 0.4386 - acc: 0.8010\n",
      "250/250 [==============================] - 81s 324ms/step - loss: 0.3570 - acc: 0.8396 - val_loss: 0.4386 - val_acc: 0.8010\n",
      "Epoch 14/20\n",
      "63/63 [==============================] - 8s 125ms/step - loss: 0.4416 - acc: 0.8110\n",
      "250/250 [==============================] - 83s 332ms/step - loss: 0.3532 - acc: 0.8403 - val_loss: 0.4416 - val_acc: 0.8110\n",
      "Epoch 15/20\n",
      "63/63 [==============================] - 7s 119ms/step - loss: 0.5011 - acc: 0.8005\n",
      "250/250 [==============================] - 83s 331ms/step - loss: 0.3307 - acc: 0.8569 - val_loss: 0.5011 - val_acc: 0.8005\n",
      "Epoch 16/20\n",
      "63/63 [==============================] - 7s 118ms/step - loss: 0.4879 - acc: 0.8060\n",
      "250/250 [==============================] - 80s 319ms/step - loss: 0.3254 - acc: 0.8544 - val_loss: 0.4879 - val_acc: 0.8060\n",
      "Epoch 17/20\n",
      "63/63 [==============================] - 7s 119ms/step - loss: 0.5209 - acc: 0.7965\n",
      "250/250 [==============================] - 81s 324ms/step - loss: 0.3105 - acc: 0.8691 - val_loss: 0.5209 - val_acc: 0.7965\n",
      "Epoch 18/20\n",
      "63/63 [==============================] - 7s 118ms/step - loss: 0.4849 - acc: 0.8040\n",
      "250/250 [==============================] - 80s 318ms/step - loss: 0.3024 - acc: 0.8690 - val_loss: 0.4849 - val_acc: 0.8040\n",
      "Epoch 19/20\n",
      "63/63 [==============================] - 7s 118ms/step - loss: 0.4802 - acc: 0.8060\n",
      "250/250 [==============================] - 79s 315ms/step - loss: 0.2840 - acc: 0.8774 - val_loss: 0.4802 - val_acc: 0.8060\n",
      "Epoch 20/20\n",
      "63/63 [==============================] - 7s 118ms/step - loss: 0.5055 - acc: 0.8125\n",
      "250/250 [==============================] - 79s 317ms/step - loss: 0.2670 - acc: 0.8875 - val_loss: 0.5055 - val_acc: 0.8125\n"
     ]
    },
    {
     "data": {
      "text/plain": [
       "<tensorflow.python.keras.callbacks.History at 0x1c10a42df98>"
      ]
     },
     "execution_count": 40,
     "metadata": {},
     "output_type": "execute_result"
    }
   ],
   "source": [
    "cnn.fit(x=training_set,validation_data=test_set,epochs=20)"
   ]
  },
  {
   "cell_type": "markdown",
   "metadata": {
    "id": "cpNoEHvCDGmC"
   },
   "source": [
    "## Part 4 - Making a single prediction"
   ]
  },
  {
   "cell_type": "markdown",
   "metadata": {},
   "source": [
    "### mapping classes names"
   ]
  },
  {
   "cell_type": "code",
   "execution_count": 83,
   "metadata": {
    "id": "9jhOZg3EDLN2"
   },
   "outputs": [
    {
     "data": {
      "text/plain": [
       "{0: 'cats', 1: 'dogs'}"
      ]
     },
     "execution_count": 83,
     "metadata": {},
     "output_type": "execute_result"
    }
   ],
   "source": [
    "names = training_set.class_indices\n",
    "names = {v:k for k,v in names.items()}\n",
    "names"
   ]
  },
  {
   "cell_type": "code",
   "execution_count": 223,
   "metadata": {},
   "outputs": [],
   "source": [
    "from keras.preprocessing import image\n",
    "def predict(img='Data/dataset/single_prediction/cat_or_dog_1.jpg'):\n",
    "    test_image = image.load_img(img,target_size=(64,64))\n",
    "    test_image = image.img_to_array(test_image)\n",
    "    test_image = np.expand_dims(test_image,axis=0)\n",
    "    result = cnn.predict(test_image)\n",
    "    return f'belongs to {names.get(result[0][0])}'"
   ]
  },
  {
   "cell_type": "code",
   "execution_count": 225,
   "metadata": {},
   "outputs": [
    {
     "data": {
      "text/plain": [
       "'belongs to cats'"
      ]
     },
     "execution_count": 225,
     "metadata": {},
     "output_type": "execute_result"
    }
   ],
   "source": [
    "predict('Data/dataset/single_prediction/cat_or_dog_2.jpg')"
   ]
  },
  {
   "cell_type": "code",
   "execution_count": null,
   "metadata": {},
   "outputs": [],
   "source": []
  }
 ],
 "metadata": {
  "colab": {
   "collapsed_sections": [],
   "name": "convolutional_neural_network.ipynb",
   "provenance": []
  },
  "kernelspec": {
   "display_name": "Python 3",
   "language": "python",
   "name": "python3"
  },
  "language_info": {
   "codemirror_mode": {
    "name": "ipython",
    "version": 3
   },
   "file_extension": ".py",
   "mimetype": "text/x-python",
   "name": "python",
   "nbconvert_exporter": "python",
   "pygments_lexer": "ipython3",
   "version": "3.7.1"
  }
 },
 "nbformat": 4,
 "nbformat_minor": 1
}
